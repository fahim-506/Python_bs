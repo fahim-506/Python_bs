{
 "cells": [
  {
   "cell_type": "markdown",
   "id": "4f4e61b4",
   "metadata": {},
   "source": [
    "functions"
   ]
  },
  {
   "cell_type": "code",
   "execution_count": 1,
   "id": "390d3b11",
   "metadata": {},
   "outputs": [],
   "source": [
    "def even_or_odd(num):\n",
    "    if num % 2 == 0:\n",
    "        print(f\"the {num} is even\")\n",
    "    else:\n",
    "        print(f\"the {num} is odd\")"
   ]
  },
  {
   "cell_type": "code",
   "execution_count": null,
   "id": "3f643bf1",
   "metadata": {},
   "outputs": [
    {
     "name": "stdout",
     "output_type": "stream",
     "text": [
      "the 39 is odd\n"
     ]
    }
   ],
   "source": [
    "even_or_odd(39)"
   ]
  },
  {
   "cell_type": "code",
   "execution_count": null,
   "id": "23a62412",
   "metadata": {},
   "outputs": [
    {
     "name": "stdout",
     "output_type": "stream",
     "text": [
      "9\n"
     ]
    }
   ],
   "source": [
    "# Functions wit multiplyle Parameters\n",
    "def add(a,b):\n",
    "    return a+b\n",
    "result=add(3,6)\n",
    "print(result)"
   ]
  },
  {
   "cell_type": "code",
   "execution_count": null,
   "id": "0020eacf",
   "metadata": {},
   "outputs": [
    {
     "name": "stdout",
     "output_type": "stream",
     "text": [
      "Hello faa Welcome to the paradise\n"
     ]
    }
   ],
   "source": [
    "# default parameter\n",
    "def greet(name = \"Guest\"):\n",
    "    print(f\"Hello {name} Welcome to the paradise\")\n",
    "greet(\"faa\")\n"
   ]
  },
  {
   "cell_type": "code",
   "execution_count": null,
   "id": "e4e3bc43",
   "metadata": {},
   "outputs": [
    {
     "name": "stdout",
     "output_type": "stream",
     "text": [
      "1\n",
      "2\n",
      "3\n",
      "4\n",
      "5\n",
      "6\n",
      "7\n",
      "Apple\n"
     ]
    }
   ],
   "source": [
    "# Variable Length Arguments\n",
    "# positional and keyword argumets\n",
    "def print_number(*args):\n",
    "    for number in args:                                          #positional argument\n",
    "        print(number)\n",
    "print_number(1,2,3,4,5,6,7,\"Apple\")"
   ]
  },
  {
   "cell_type": "code",
   "execution_count": 10,
   "id": "570b9a57",
   "metadata": {},
   "outputs": [
    {
     "name": "stdout",
     "output_type": "stream",
     "text": [
      "name:fahim\n",
      "age:21\n",
      "country:india\n"
     ]
    }
   ],
   "source": [
    "#Keyword Argument\n",
    "def print_details(**kwargs):\n",
    "    for key,value in kwargs.items():\n",
    "        print(f\"{key}:{value}\")\n",
    "print_details(name = \"fahim\",age = 21 ,country = \"india\")"
   ]
  },
  {
   "cell_type": "code",
   "execution_count": 16,
   "id": "908ec321",
   "metadata": {},
   "outputs": [
    {
     "name": "stdout",
     "output_type": "stream",
     "text": [
      "1 : Positional Arguments\n",
      "2 : Positional Arguments\n",
      "3 : Positional Arguments\n",
      "4 : Positional Arguments\n",
      "name:fahim\n",
      "age:21\n",
      "country:india\n"
     ]
    }
   ],
   "source": [
    "def print_detail(*args,**kwargs):\n",
    "    for val in args:                                      \n",
    "        print(f\"{val} : Positional Arguments\")\n",
    "    for key,value in kwargs.items():\n",
    "        print(f\"{key}:{value}\")\n",
    "print_detail(1,2,3,4,name = \"fahim\",age = 21 ,country = \"india\")"
   ]
  },
  {
   "cell_type": "code",
   "execution_count": null,
   "id": "e6f951fa",
   "metadata": {},
   "outputs": [
    {
     "name": "stdout",
     "output_type": "stream",
     "text": [
      "25.0\n",
      "107.0\n"
     ]
    }
   ],
   "source": [
    "# Temperature convertion\n",
    "def convert_temperature(temp,unit):\n",
    "    if unit =='C':\n",
    "        return temp * 9/3 + 32 # celsius to fehrenheit\n",
    "    elif unit == 'F':\n",
    "        return (temp - 32) * 5/9 #fehrenheit to celsius\n",
    "    else:\n",
    "        return None\n",
    "print(convert_temperature(77,'F'))\n",
    "print(convert_temperature(25,'C'))"
   ]
  },
  {
   "cell_type": "code",
   "execution_count": 19,
   "id": "ac7812ac",
   "metadata": {},
   "outputs": [
    {
     "name": "stdout",
     "output_type": "stream",
     "text": [
      "False\n",
      "True\n"
     ]
    }
   ],
   "source": [
    "def is_strong_password(password):\n",
    "    \"\"\"\n",
    "    Checks if the password is strong or not.\n",
    "    \"\"\"\n",
    "    if len(password) < 8:\n",
    "        return False\n",
    "    if not any(char.isdigit() for char in password):\n",
    "        return False\n",
    "    if not any(char.islower() for char in password):\n",
    "        return False\n",
    "    if not any(char.isupper() for char in password):\n",
    "        return False\n",
    "    special_characters = '!@#$%^&*()-_+=[]{}|;:,.<>?/\\\\'\n",
    "    if not any(char in special_characters for char in password):\n",
    "        return False\n",
    "    return True\n",
    "print(is_strong_password('AbAbaBaB'))  # Output: False\n",
    "print(is_strong_password('Str0ngPwd!'))  # Output: True"
   ]
  },
  {
   "cell_type": "code",
   "execution_count": 22,
   "id": "2f5490ff",
   "metadata": {},
   "outputs": [
    {
     "name": "stdout",
     "output_type": "stream",
     "text": [
      "120\n"
     ]
    }
   ],
   "source": [
    "def factorial(n):\n",
    "    if n==0:\n",
    "        return 1\n",
    "    else:\n",
    "        return n * factorial(n-1)\n",
    "print(factorial(5))"
   ]
  },
  {
   "cell_type": "markdown",
   "id": "6a105d02",
   "metadata": {},
   "source": [
    "Lambda function"
   ]
  },
  {
   "cell_type": "code",
   "execution_count": 23,
   "id": "8e8152fb",
   "metadata": {},
   "outputs": [
    {
     "name": "stdout",
     "output_type": "stream",
     "text": [
      "7\n"
     ]
    }
   ],
   "source": [
    "addition = lambda a, b: a+b\n",
    "print(addition(2,5))"
   ]
  },
  {
   "cell_type": "markdown",
   "id": "1ad45994",
   "metadata": {},
   "source": [
    "map function"
   ]
  },
  {
   "cell_type": "code",
   "execution_count": 29,
   "id": "a93f8244",
   "metadata": {},
   "outputs": [
    {
     "data": {
      "text/plain": [
       "9"
      ]
     },
     "execution_count": 29,
     "metadata": {},
     "output_type": "execute_result"
    }
   ],
   "source": [
    "def square(x):\n",
    "    return x*x\n",
    "square(3)"
   ]
  },
  {
   "cell_type": "code",
   "execution_count": 32,
   "id": "15fe48a1",
   "metadata": {},
   "outputs": [
    {
     "data": {
      "text/plain": [
       "[1, 4, 9, 16, 25, 36]"
      ]
     },
     "execution_count": 32,
     "metadata": {},
     "output_type": "execute_result"
    }
   ],
   "source": [
    "numbers=[1,2,3,4,5,6]\n",
    "list(map(square,numbers))"
   ]
  },
  {
   "cell_type": "code",
   "execution_count": 36,
   "id": "e75749a4",
   "metadata": {},
   "outputs": [
    {
     "data": {
      "text/plain": [
       "[1, 4, 9, 16, 25, 36, 49, 64]"
      ]
     },
     "execution_count": 36,
     "metadata": {},
     "output_type": "execute_result"
    }
   ],
   "source": [
    "# lambda with map function\n",
    "numbers=[1,2,3,4,5,6,7,8]\n",
    "list(map(lambda x:x*x, numbers))"
   ]
  },
  {
   "cell_type": "code",
   "execution_count": 38,
   "id": "a4cb5ab6",
   "metadata": {},
   "outputs": [
    {
     "name": "stdout",
     "output_type": "stream",
     "text": [
      "[5, 7, 9]\n"
     ]
    }
   ],
   "source": [
    "numbers1=[1,2,3]\n",
    "numbers2=[4,5,6]\n",
    "added_number=list(map(lambda x,y:x+y,numbers1,numbers2))\n",
    "print(added_number)"
   ]
  },
  {
   "cell_type": "code",
   "execution_count": 39,
   "id": "60840d0c",
   "metadata": {},
   "outputs": [
    {
     "name": "stdout",
     "output_type": "stream",
     "text": [
      "['APPLE', 'BANANA', 'CHERRY', 'GRAPE']\n"
     ]
    }
   ],
   "source": [
    "words=['apple','banana','cherry','grape']\n",
    "upper_word=list(map(str.upper,words))\n",
    "print(upper_word)"
   ]
  },
  {
   "cell_type": "markdown",
   "id": "69d6aac5",
   "metadata": {},
   "source": [
    "Filter function"
   ]
  },
  {
   "cell_type": "code",
   "execution_count": 43,
   "id": "a8393762",
   "metadata": {},
   "outputs": [
    {
     "data": {
      "text/plain": [
       "True"
      ]
     },
     "execution_count": 43,
     "metadata": {},
     "output_type": "execute_result"
    }
   ],
   "source": [
    "def even(num):\n",
    "    if num % 2 == 0:\n",
    "        return True\n",
    "even(22)"
   ]
  },
  {
   "cell_type": "code",
   "execution_count": 45,
   "id": "8025480a",
   "metadata": {},
   "outputs": [
    {
     "data": {
      "text/plain": [
       "[2, 4, 6, 8, 10, 12]"
      ]
     },
     "execution_count": 45,
     "metadata": {},
     "output_type": "execute_result"
    }
   ],
   "source": [
    "lst=[1,2,3,4,5,6,7,8,9,10,11,12]\n",
    "list(filter(even,lst))"
   ]
  },
  {
   "cell_type": "code",
   "execution_count": 47,
   "id": "ffadb395",
   "metadata": {},
   "outputs": [
    {
     "name": "stdout",
     "output_type": "stream",
     "text": [
      "[6, 7, 8, 9]\n"
     ]
    }
   ],
   "source": [
    "# filter with a lambda function\n",
    "numbers=[1,2,3,4,5,6,7,8,9]\n",
    "greater_than_five=list(filter(lambda x:x>5,numbers))\n",
    "print(greater_than_five)"
   ]
  },
  {
   "cell_type": "code",
   "execution_count": 51,
   "id": "0c2516e6",
   "metadata": {},
   "outputs": [
    {
     "name": "stdout",
     "output_type": "stream",
     "text": [
      "[6, 8]\n"
     ]
    }
   ],
   "source": [
    "# filter with a lambda function and multiple condition\n",
    "numbers=[1,2,3,4,5,6,7,8,9]\n",
    "even_and_greater_than_five=list(filter(lambda x:x>5 and x%2==0,numbers))\n",
    "print(even_and_greater_than_five)"
   ]
  },
  {
   "cell_type": "code",
   "execution_count": null,
   "id": "732fe744",
   "metadata": {},
   "outputs": [],
   "source": []
  }
 ],
 "metadata": {
  "kernelspec": {
   "display_name": "Python 3",
   "language": "python",
   "name": "python3"
  },
  "language_info": {
   "codemirror_mode": {
    "name": "ipython",
    "version": 3
   },
   "file_extension": ".py",
   "mimetype": "text/x-python",
   "name": "python",
   "nbconvert_exporter": "python",
   "pygments_lexer": "ipython3",
   "version": "3.10.18"
  }
 },
 "nbformat": 4,
 "nbformat_minor": 5
}
