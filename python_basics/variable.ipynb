{
 "cells": [
  {
   "cell_type": "code",
   "execution_count": 1,
   "id": "ce8d7605",
   "metadata": {},
   "outputs": [
    {
     "name": "stdout",
     "output_type": "stream",
     "text": [
      "Hello\n"
     ]
    }
   ],
   "source": [
    "a=\"Hello\"\n",
    "print(a)"
   ]
  },
  {
   "cell_type": "code",
   "execution_count": 4,
   "id": "b16c2324",
   "metadata": {},
   "outputs": [
    {
     "name": "stdout",
     "output_type": "stream",
     "text": [
      "<class 'str'>\n"
     ]
    },
    {
     "data": {
      "text/plain": [
       "int"
      ]
     },
     "execution_count": 4,
     "metadata": {},
     "output_type": "execute_result"
    }
   ],
   "source": [
    "print(type(\"hi\"))\n",
    "s=2\n",
    "type(s)"
   ]
  },
  {
   "cell_type": "markdown",
   "id": "db68f2d5",
   "metadata": {},
   "source": [
    "Type convertion\n"
   ]
  },
  {
   "cell_type": "code",
   "execution_count": 6,
   "id": "3bc08a07",
   "metadata": {},
   "outputs": [
    {
     "name": "stdout",
     "output_type": "stream",
     "text": [
      "<class 'int'>\n",
      "<class 'str'>\n"
     ]
    }
   ],
   "source": [
    "age=17\n",
    "print(type(age))\n",
    "\n",
    "age_str=str(age)\n",
    "print(type(age_str))"
   ]
  },
  {
   "cell_type": "code",
   "execution_count": null,
   "id": "8d91932a",
   "metadata": {},
   "outputs": [
    {
     "name": "stdout",
     "output_type": "stream",
     "text": [
      "23\n"
     ]
    }
   ],
   "source": [
    "# Input function\n",
    "\n",
    "age=int(input(\"What is your age: \"))\n",
    "print(age)"
   ]
  },
  {
   "cell_type": "code",
   "execution_count": 1,
   "id": "d578597a",
   "metadata": {},
   "outputs": [
    {
     "name": "stdout",
     "output_type": "stream",
     "text": [
      "Sum:  30.0\n",
      "Difference:  20.0\n",
      "Product:  125.0\n",
      "Quotient:  5.0\n"
     ]
    }
   ],
   "source": [
    "'''simple calcularor'''\n",
    "num1=float(input(\"Enter first number\"))\n",
    "num2=float(input(\"Enter second number\"))\n",
    "\n",
    "add= num1+num2\n",
    "sub= num1-num2\n",
    "div=num1/num2\n",
    "multi=num1*num2\n",
    "\n",
    "print(\"Sum: \",add)\n",
    "print(\"Difference: \",sub)\n",
    "print(\"Product: \",multi)\n",
    "print(\"Quotient: \",div)"
   ]
  },
  {
   "cell_type": "code",
   "execution_count": null,
   "id": "beee3359",
   "metadata": {},
   "outputs": [
    {
     "name": "stdout",
     "output_type": "stream",
     "text": [
      "6\n",
      "7.3\n",
      "hai\n"
     ]
    },
    {
     "data": {
      "text/plain": [
       "bool"
      ]
     },
     "execution_count": 2,
     "metadata": {},
     "output_type": "execute_result"
    }
   ],
   "source": [
    "#                       Data Types\n",
    "#   Integer\n",
    "a=6\n",
    "print(a)\n",
    "# Float \n",
    "b=7.3\n",
    "print(b)\n",
    "#    String \n",
    "c=\"hai\"\n",
    "print(c)\n",
    "#   Boolean\n",
    "type(True)\n"
   ]
  },
  {
   "cell_type": "markdown",
   "id": "9ba6b321",
   "metadata": {},
   "source": [
    "Operators"
   ]
  },
  {
   "cell_type": "code",
   "execution_count": 3,
   "id": "a2dac20f",
   "metadata": {},
   "outputs": [
    {
     "name": "stdout",
     "output_type": "stream",
     "text": [
      "15\n",
      "5\n",
      "2.0\n",
      "50\n",
      "2\n",
      "0\n",
      "100000\n"
     ]
    }
   ],
   "source": [
    "# Arithmetic Operations\n",
    "\n",
    "a=10\n",
    "b=5\n",
    "add=a+b\n",
    "sub=a-b\n",
    "div=a/b\n",
    "mult=a*b\n",
    "floor_div=a//b\n",
    "modules=a%b\n",
    "exponential=a**b\n",
    "\n",
    "print(add)\n",
    "print(sub)\n",
    "print(div)\n",
    "print(mult)\n",
    "print(floor_div)\n",
    "print(modules)\n",
    "print(exponential)"
   ]
  },
  {
   "cell_type": "code",
   "execution_count": null,
   "id": "e0125291",
   "metadata": {},
   "outputs": [
    {
     "data": {
      "text/plain": [
       "True"
      ]
     },
     "execution_count": 8,
     "metadata": {},
     "output_type": "execute_result"
    }
   ],
   "source": [
    "# Comparison Operators      ==, !=, >, <, >=, <=\n",
    "str1=\"focus\"\n",
    "str2=\"Focus\"\n",
    "\n",
    "\n",
    "str1==str2\n",
    "str1!=str2\n",
    "\n",
    "num=24\n",
    "num0=32\n",
    "num0>num"
   ]
  },
  {
   "cell_type": "code",
   "execution_count": null,
   "id": "70afb899",
   "metadata": {},
   "outputs": [
    {
     "name": "stdout",
     "output_type": "stream",
     "text": [
      "False\n",
      "True\n",
      "False\n"
     ]
    }
   ],
   "source": [
    "# Logical operators     And, Not, OR\n",
    "x=False\n",
    "y=True\n",
    "print(x and y)\n",
    "print(x or y)\n",
    "print(not y)\n"
   ]
  },
  {
   "cell_type": "code",
   "execution_count": null,
   "id": "ec784795",
   "metadata": {},
   "outputs": [],
   "source": []
  }
 ],
 "metadata": {
  "kernelspec": {
   "display_name": "Python 3",
   "language": "python",
   "name": "python3"
  },
  "language_info": {
   "codemirror_mode": {
    "name": "ipython",
    "version": 3
   },
   "file_extension": ".py",
   "mimetype": "text/x-python",
   "name": "python",
   "nbconvert_exporter": "python",
   "pygments_lexer": "ipython3",
   "version": "3.10.18"
  }
 },
 "nbformat": 4,
 "nbformat_minor": 5
}
