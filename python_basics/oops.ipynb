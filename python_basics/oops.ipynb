{
 "cells": [
  {
   "cell_type": "markdown",
   "id": "d01ac403",
   "metadata": {},
   "source": [
    "CLASS AND OBJECTS"
   ]
  },
  {
   "cell_type": "code",
   "execution_count": 7,
   "id": "4ed12665",
   "metadata": {},
   "outputs": [
    {
     "name": "stdout",
     "output_type": "stream",
     "text": [
      "<__main__.car object at 0x10447e620>\n",
      "4\n"
     ]
    }
   ],
   "source": [
    "class car:\n",
    "    pass\n",
    "bmw=car()\n",
    "print(bmw)\n",
    "bmw.windows=4\n",
    "print(bmw.windows)"
   ]
  },
  {
   "cell_type": "code",
   "execution_count": 9,
   "id": "dcbc9750",
   "metadata": {},
   "outputs": [
    {
     "data": {
      "text/plain": [
       "['__class__',\n",
       " '__delattr__',\n",
       " '__dict__',\n",
       " '__dir__',\n",
       " '__doc__',\n",
       " '__eq__',\n",
       " '__format__',\n",
       " '__ge__',\n",
       " '__getattribute__',\n",
       " '__gt__',\n",
       " '__hash__',\n",
       " '__init__',\n",
       " '__init_subclass__',\n",
       " '__le__',\n",
       " '__lt__',\n",
       " '__module__',\n",
       " '__ne__',\n",
       " '__new__',\n",
       " '__reduce__',\n",
       " '__reduce_ex__',\n",
       " '__repr__',\n",
       " '__setattr__',\n",
       " '__sizeof__',\n",
       " '__str__',\n",
       " '__subclasshook__',\n",
       " '__weakref__',\n",
       " 'windows']"
      ]
     },
     "execution_count": 9,
     "metadata": {},
     "output_type": "execute_result"
    }
   ],
   "source": [
    "dir(bmw)"
   ]
  },
  {
   "cell_type": "code",
   "execution_count": 31,
   "id": "3420d94c",
   "metadata": {},
   "outputs": [
    {
     "name": "stdout",
     "output_type": "stream",
     "text": [
      "buddy\n",
      "3\n"
     ]
    }
   ],
   "source": [
    "# instance Variable and Methods\n",
    "class Dog:\n",
    "    # constructor\n",
    "    def __init__(self,name,age):\n",
    "        self.name=name\n",
    "        self.age=age\n",
    "# create object\n",
    "dog1=Dog(\"buddy\",3)\n",
    "print(dog1.name)\n",
    "print(dog1.age)"
   ]
  },
  {
   "cell_type": "code",
   "execution_count": 41,
   "id": "cb30177b",
   "metadata": {},
   "outputs": [
    {
     "name": "stdout",
     "output_type": "stream",
     "text": [
      "Lucy\n",
      "Lucy say woof \n"
     ]
    }
   ],
   "source": [
    "class Dog:\n",
    "    def __init__(self,name,age):\n",
    "        self.name=name\n",
    "        self.age=age\n",
    "    def bark(self):\n",
    "        print(f\"{self.name} say woof \")\n",
    "dog0=Dog(\"Lucy\",2)\n",
    "print(dog0.name)\n",
    "dog0.bark()"
   ]
  },
  {
   "cell_type": "code",
   "execution_count": 44,
   "id": "ecc766e2",
   "metadata": {},
   "outputs": [
    {
     "name": "stdout",
     "output_type": "stream",
     "text": [
      "fahim\n",
      "36700\n",
      "300 is deposited. New balance is 37000\n",
      "4000 is withdrawn .New balance is 33000\n"
     ]
    },
    {
     "data": {
      "text/plain": [
       "33000"
      ]
     },
     "execution_count": 44,
     "metadata": {},
     "output_type": "execute_result"
    }
   ],
   "source": [
    "# Modeling a Bank Account\n",
    "class BankAccount:\n",
    "    def __init__(self,owner,balance=0):\n",
    "        self.owner=owner\n",
    "        self.balance=balance\n",
    "    def deposite(self,amount):\n",
    "        self.balance+=amount\n",
    "        print(f\"{amount} is deposited. New balance is {self.balance}\")\n",
    "    def withdraw(self,amount):\n",
    "        if amount>self.balance:\n",
    "            print('Insufficient funds')\n",
    "        else:\n",
    "            self.balance-=amount\n",
    "            print(f\"{amount} is withdrawn .New balance is {self.balance}\")\n",
    "    def getbalance(self):\n",
    "        return self.balance\n",
    "account=BankAccount('fahim',36700)\n",
    "print(account.owner)\n",
    "print(account.balance)\n",
    "account.deposite(300)\n",
    "account.withdraw(4000)\n",
    "account.getbalance()\n",
    "\n",
    "\n"
   ]
  },
  {
   "cell_type": "markdown",
   "id": "f3206d33",
   "metadata": {},
   "source": [
    "Inheritance"
   ]
  },
  {
   "cell_type": "code",
   "execution_count": 64,
   "id": "d1f7f76e",
   "metadata": {},
   "outputs": [
    {
     "name": "stdout",
     "output_type": "stream",
     "text": [
      "4\n",
      "5\n",
      "petrol\n",
      "The person will drive the petrol car\n",
      "The person will drive the electric car\n"
     ]
    }
   ],
   "source": [
    "# parent class\n",
    "class car:\n",
    "    def __init__(self,windows,doors,enginetype):\n",
    "        self.windows=windows\n",
    "        self.doors=doors\n",
    "        self.enginetype=enginetype\n",
    "    def drive(self):\n",
    "        print(f\"The person will drive the {self.enginetype} car\")\n",
    "car1=car(4,5,\"petrol\")\n",
    "print(car1.windows)\n",
    "print(car1.doors)\n",
    "print(car1.enginetype)\n",
    "car1.drive()\n",
    "\n",
    "class Tesla(car):\n",
    "    def __init__(self,windows,doors,enginetype,is_selfdriving):\n",
    "        super().__init__(windows,doors,enginetype)\n",
    "        self.is_selfdriving=is_selfdriving\n",
    "    def selfdriving(self):\n",
    "        print(f\"Tesla supports self driving: {self.is_selfdriving}\")\n",
    "tesla1=Tesla(4,2,\"electric\",True)\n",
    "tesla1.drive()\n"
   ]
  },
  {
   "cell_type": "code",
   "execution_count": 73,
   "id": "5869f7c1",
   "metadata": {},
   "outputs": [
    {
     "name": "stdout",
     "output_type": "stream",
     "text": [
      "buddy says woof\n",
      "Owner : lucy\n"
     ]
    }
   ],
   "source": [
    "# multiple inheritence\n",
    "# Base 1 class\n",
    "class Animal:\n",
    "    def __init__(self, name):\n",
    "        self.name = name\n",
    "\n",
    "    def speak(self):\n",
    "        print(\"Subclasses must implement this method.\")\n",
    "# Base 2 class\n",
    "class Pet:\n",
    "    def __init__(self, owner):\n",
    "        self.owner = owner\n",
    "# derived class\n",
    "class Dog(Animal, Pet):\n",
    "    def __init__(self, name, owner):\n",
    "        Animal.__init__(self, name)\n",
    "        Pet.__init__(self, owner)\n",
    "\n",
    "    def speak(self):\n",
    "        return f\"{self.name} says woof\"\n",
    "dog=Dog(\"buddy\",\"lucy\")\n",
    "print(dog.speak())\n",
    "print(f\"Owner : {dog.owner}\")\n"
   ]
  },
  {
   "cell_type": "markdown",
   "id": "ae4fa47f",
   "metadata": {},
   "source": [
    "Polymorphism"
   ]
  },
  {
   "cell_type": "code",
   "execution_count": 164,
   "id": "d97c6c3a",
   "metadata": {},
   "outputs": [
    {
     "name": "stdout",
     "output_type": "stream",
     "text": [
      "Woof!\n",
      "meow!\n",
      "Woof!\n"
     ]
    }
   ],
   "source": [
    "class Animal:\n",
    "    def speak(self):\n",
    "        return \"Sound of the animal\"\n",
    "class Dog(Animal):\n",
    "    def speak(self):\n",
    "        return \"Woof!\"\n",
    "class Cat(Animal):\n",
    "    def speak(self):\n",
    "        return \"meow!\"\n",
    "# function that demonstrates polymorphism\n",
    "def animal_speak(animal):\n",
    "    print(animal.speak())\n",
    "\n",
    "dog=Dog()\n",
    "cat=Cat()\n",
    "print(dog.speak())\n",
    "print(cat.speak())\n",
    "animal_speak(dog)"
   ]
  },
  {
   "cell_type": "code",
   "execution_count": 94,
   "id": "15dc8efb",
   "metadata": {},
   "outputs": [
    {
     "name": "stdout",
     "output_type": "stream",
     "text": [
      " the area is 15\n",
      " the area is 113.03999999999999\n"
     ]
    }
   ],
   "source": [
    "# polymorphism with functions and methods\n",
    "# base class\n",
    "class Shape:\n",
    "    def area(self):\n",
    "        return \"The area of the figure\"\n",
    "class Rectangle(Shape):\n",
    "    def __init__(self,width,height):\n",
    "        self.width=width\n",
    "        self.height=height\n",
    "    def area(self):\n",
    "        return self.width * self.height\n",
    "class circle(Shape):\n",
    "    def __init__(self,radius):\n",
    "        self.radius=radius\n",
    "    def area(self):\n",
    "        return 3.14 *self.radius * self.radius\n",
    "# function that demonstrates polymorphism\n",
    "def print_area(Shape):\n",
    "    print(f\" the area is {Shape.area()}\")\n",
    "rect=Rectangle(3,5)\n",
    "# print(rect.area())\n",
    "cir=circle(6)\n",
    "# print(cir.area())\n",
    "print_area(rect)\n",
    "print_area(cir)"
   ]
  },
  {
   "cell_type": "code",
   "execution_count": 99,
   "id": "9f4e4406",
   "metadata": {},
   "outputs": [
    {
     "name": "stdout",
     "output_type": "stream",
     "text": [
      "car engine started\n",
      "motorcycle engine started\n"
     ]
    }
   ],
   "source": [
    "# polymorphism with Abstract base classes\n",
    "from abc import ABC,abstractmethod\n",
    "# define an abstract class\n",
    "class Vehicle(ABC):\n",
    "    @abstractmethod\n",
    "    def start_engine(self):\n",
    "        pass\n",
    "# derived class 1 \n",
    "class car(Vehicle):\n",
    "    def start_engine(self):\n",
    "        return \"car engine started\"\n",
    "# derived class 2\n",
    "class motorcycle(Vehicle):\n",
    "    def start_engine(self):\n",
    "        return \"motorcycle engine started\"\n",
    "def start_vehicle(Vehicle):\n",
    "    print(Vehicle.start_engine())\n",
    "    \n",
    "# create objects of car and motorcycle\n",
    "carr=car()\n",
    "motorcyclee=motorcycle()\n",
    "start_vehicle(carr)\n",
    "start_vehicle(motorcyclee)"
   ]
  },
  {
   "cell_type": "markdown",
   "id": "5806bbf9",
   "metadata": {},
   "source": [
    "Encapsulations"
   ]
  },
  {
   "cell_type": "code",
   "execution_count": 111,
   "id": "f33ebcff",
   "metadata": {},
   "outputs": [
    {
     "name": "stdout",
     "output_type": "stream",
     "text": [
      "pale\n"
     ]
    },
    {
     "data": {
      "text/plain": [
       "'pale'"
      ]
     },
     "execution_count": 111,
     "metadata": {},
     "output_type": "execute_result"
    }
   ],
   "source": [
    "# Encapsulation with Getter and Setter Method\n",
    "# Public, private, protected varible and access modifier\n",
    "class Person:\n",
    "    def __init__(self,name,age):\n",
    "        self.name=name      #public variable\n",
    "        self.age=age        #public variable\n",
    "def get_name(person):\n",
    "    return person.name\n",
    "person=Person('pale',61)\n",
    "print(person.name)\n",
    "get_name(person)"
   ]
  },
  {
   "cell_type": "code",
   "execution_count": 112,
   "id": "27ece31b",
   "metadata": {},
   "outputs": [
    {
     "data": {
      "text/plain": [
       "['__class__',\n",
       " '__delattr__',\n",
       " '__dict__',\n",
       " '__dir__',\n",
       " '__doc__',\n",
       " '__eq__',\n",
       " '__format__',\n",
       " '__ge__',\n",
       " '__getattribute__',\n",
       " '__gt__',\n",
       " '__hash__',\n",
       " '__init__',\n",
       " '__init_subclass__',\n",
       " '__le__',\n",
       " '__lt__',\n",
       " '__module__',\n",
       " '__ne__',\n",
       " '__new__',\n",
       " '__reduce__',\n",
       " '__reduce_ex__',\n",
       " '__repr__',\n",
       " '__setattr__',\n",
       " '__sizeof__',\n",
       " '__str__',\n",
       " '__subclasshook__',\n",
       " '__weakref__',\n",
       " 'age',\n",
       " 'name']"
      ]
     },
     "execution_count": 112,
     "metadata": {},
     "output_type": "execute_result"
    }
   ],
   "source": [
    "dir(person)"
   ]
  },
  {
   "cell_type": "code",
   "execution_count": 122,
   "id": "3f49c8c3",
   "metadata": {},
   "outputs": [
    {
     "name": "stdout",
     "output_type": "stream",
     "text": [
      "male\n"
     ]
    },
    {
     "data": {
      "text/plain": [
       "'pale'"
      ]
     },
     "execution_count": 122,
     "metadata": {},
     "output_type": "execute_result"
    }
   ],
   "source": [
    "class Person:\n",
    "    def __init__(self,name,age,gender):\n",
    "        self.__name=name      #private variable\n",
    "        self.__age=age        #private variable\n",
    "        self.gender=gender\n",
    "\n",
    "def get_name(person):\n",
    "    return person._Person__name\n",
    "person=Person('pale',61,'male')\n",
    "print(person.gender)\n",
    "get_name(person)\n"
   ]
  },
  {
   "cell_type": "code",
   "execution_count": 124,
   "id": "2fbf4e8c",
   "metadata": {},
   "outputs": [
    {
     "name": "stdout",
     "output_type": "stream",
     "text": [
      "lucy\n"
     ]
    }
   ],
   "source": [
    "class Person:\n",
    "    def __init__(self,name,age,gender):\n",
    "        self._name=name      #protected variable\n",
    "        self._age=age        #protected variable\n",
    "        self.gender=gender\n",
    "\n",
    "class Employee(Person):\n",
    "    def __init__(self, name, age, gender):\n",
    "        super().__init__(name, age, gender)\n",
    "\n",
    "employee=Employee(\"lucy\",32, 'male')\n",
    "print(employee._name)"
   ]
  },
  {
   "cell_type": "code",
   "execution_count": 137,
   "id": "3c78b6d9",
   "metadata": {},
   "outputs": [
    {
     "name": "stdout",
     "output_type": "stream",
     "text": [
      "jack\n",
      "23\n",
      "wicky\n",
      "30\n",
      "Age cannot be negative\n"
     ]
    }
   ],
   "source": [
    "# Encapsulation with Getter and Setter Method\n",
    "class Person:\n",
    "    def __init__(self,name,age,):\n",
    "        self.__name=name        #private variable or access modifier\n",
    "        self.__age=age\n",
    "    # Getter method for name\n",
    "    def get_name(self):\n",
    "        return self.__name\n",
    "    # Setter method for name\n",
    "    def set_name(self,name):\n",
    "        self.__name=name\n",
    "# Getter method for age\n",
    "    def get_age(self):\n",
    "        return self.__age\n",
    "#  setter method for age   \n",
    "    def set_age(self,age):\n",
    "        if age>0:\n",
    "            self.__age=age\n",
    "        else:\n",
    "            print(\"Age cannot be negative\")\n",
    "\n",
    "person= Person(\"jack\",23)\n",
    "print(person.get_name())\n",
    "print(person.get_age())\n",
    "person.set_name(\"wicky\")\n",
    "print(person.get_name())\n",
    "person.set_age(30)\n",
    "print(person.get_age())\n",
    "person.set_age(-2)"
   ]
  },
  {
   "cell_type": "code",
   "execution_count": 138,
   "id": "ab04fd89",
   "metadata": {},
   "outputs": [
    {
     "name": "stdout",
     "output_type": "stream",
     "text": [
      "Car engine started\n"
     ]
    }
   ],
   "source": [
    "# Abstractiion\n",
    "from abc import ABC,abstractmethod\n",
    "# Abstract base class\n",
    "class Vehicle:\n",
    "    def drive(self):\n",
    "        print(\"The vehicle is used for driving\")\n",
    "    @abstractmethod\n",
    "    def start_engine(self):\n",
    "        pass\n",
    "class Car(Vehicle) :\n",
    "    def start_engine(self):\n",
    "        print(\"Car engine started\")\n",
    "def operate_vehicle(Vehicle):\n",
    "    Vehicle.start_engine()\n",
    "car=Car()\n",
    "operate_vehicle(car)"
   ]
  },
  {
   "cell_type": "code",
   "execution_count": 142,
   "id": "cd45a3ab",
   "metadata": {},
   "outputs": [
    {
     "name": "stdout",
     "output_type": "stream",
     "text": [
      "Parrot says: Squawk!\n",
      "Penguin says: Honk!\n"
     ]
    }
   ],
   "source": [
    "class Bird:\n",
    "    def speak(self):\n",
    "        pass\n",
    "\n",
    "class Parrot(Bird):\n",
    "    def speak(self):\n",
    "        print(\"Parrot says: Squawk!\")\n",
    "\n",
    "class Penguin(Bird):\n",
    "    def speak(self):\n",
    "        print(\"Penguin says: Honk!\")\n",
    "\n",
    "# Test\n",
    "birds = [Parrot(), Penguin()]\n",
    "for bird in birds:\n",
    "    bird.speak() "
   ]
  },
  {
   "cell_type": "markdown",
   "id": "05745706",
   "metadata": {},
   "source": [
    "Custom exception handling"
   ]
  },
  {
   "cell_type": "code",
   "execution_count": 150,
   "id": "b4656d49",
   "metadata": {},
   "outputs": [],
   "source": [
    "class Error(Exception):\n",
    "    pass\n",
    "class dobException(Error):\n",
    "    pass"
   ]
  },
  {
   "cell_type": "code",
   "execution_count": 151,
   "id": "7603d7e4",
   "metadata": {},
   "outputs": [
    {
     "name": "stdout",
     "output_type": "stream",
     "text": [
      "sorry your age should be greater than 20 or less than 30\n"
     ]
    }
   ],
   "source": [
    "year=int(input(\"Enter the dob: \"))\n",
    "age=2025-year\n",
    "try:\n",
    "    if age<=30 and age>=20:\n",
    "        print(\"Your age is valid so you can apply for the exams \")\n",
    "    else:\n",
    "        raise dobException\n",
    "except dobException:\n",
    "    print(\"sorry your age should be greater than 20 or less than 30\")\n",
    "    "
   ]
  },
  {
   "cell_type": "code",
   "execution_count": 163,
   "id": "ca64d1f4",
   "metadata": {},
   "outputs": [
    {
     "name": "stdout",
     "output_type": "stream",
     "text": [
      "The Honda Civic's engine is started.\n",
      "The Honda Civic is now at 50 km/h.\n",
      "The Tesla Model 3's engine is started.\n",
      "The Tesla Model 3 is charging. Current charge: 100%\n"
     ]
    }
   ],
   "source": [
    "class Car:\n",
    "    def __init__(self, make, model, year, color):\n",
    "        self.make = make\n",
    "        self.model = model\n",
    "        self.year = year\n",
    "        self.color = color\n",
    "        self.speed = 0\n",
    "\n",
    "    def start_engine(self):\n",
    "        return f\"The {self.make} {self.model}'s engine is started.\"\n",
    "\n",
    "    def accelerate(self, increment):\n",
    "        self.speed += increment\n",
    "        return f\"The {self.make} {self.model} is now at {self.speed} km/h.\"\n",
    "\n",
    "    def brake(self):\n",
    "        self.speed = 0\n",
    "        return f\"The {self.make} {self.model} has come to a stop.\"\n",
    "\n",
    "class ElectricCar(Car): # Inheritance\n",
    "    def __init__(self, make, model, year, color, battery_capacity):\n",
    "        super().__init__(make, model, year, color) # Call parent constructor\n",
    "        self.battery_capacity = battery_capacity\n",
    "        self.charge_level = 100 # Initial charge\n",
    "\n",
    "    def charge(self, duration): # Polymorphism (different behavior for charging)\n",
    "        self.charge_level = min(100, self.charge_level + duration * 5) # Simplified charging logic\n",
    "        return f\"The {self.make} {self.model} is charging. Current charge: {self.charge_level}%\"\n",
    "\n",
    "# Creating objects\n",
    "my_sedan = Car(\"Honda\", \"Civic\", 2022, \"Silver\")\n",
    "my_tesla = ElectricCar(\"Tesla\", \"Model 3\", 2024, \"Red\", 75)\n",
    "\n",
    "# Interacting with objects\n",
    "print(my_sedan.start_engine())\n",
    "print(my_sedan.accelerate(50))\n",
    "print(my_tesla.start_engine()) # Inherited method\n",
    "print(my_tesla.charge(2)) # Polymorphic method call"
   ]
  },
  {
   "cell_type": "code",
   "execution_count": null,
   "id": "957df00b",
   "metadata": {},
   "outputs": [],
   "source": []
  }
 ],
 "metadata": {
  "kernelspec": {
   "display_name": "Python 3",
   "language": "python",
   "name": "python3"
  },
  "language_info": {
   "codemirror_mode": {
    "name": "ipython",
    "version": 3
   },
   "file_extension": ".py",
   "mimetype": "text/x-python",
   "name": "python",
   "nbconvert_exporter": "python",
   "pygments_lexer": "ipython3",
   "version": "3.10.18"
  }
 },
 "nbformat": 4,
 "nbformat_minor": 5
}
