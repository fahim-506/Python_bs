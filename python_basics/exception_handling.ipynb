{
 "cells": [
  {
   "cell_type": "code",
   "execution_count": 1,
   "id": "769667ed",
   "metadata": {},
   "outputs": [
    {
     "name": "stdout",
     "output_type": "stream",
     "text": [
      "The variable has not been assigned \n"
     ]
    }
   ],
   "source": [
    "# Exception try , except block\n",
    "try:\n",
    "    a=b\n",
    "except:\n",
    "    print(\"The variable has not been assigned \")"
   ]
  },
  {
   "cell_type": "code",
   "execution_count": 2,
   "id": "8fedce53",
   "metadata": {},
   "outputs": [
    {
     "name": "stdout",
     "output_type": "stream",
     "text": [
      "name 'b' is not defined\n"
     ]
    }
   ],
   "source": [
    "try:\n",
    "    a=b\n",
    "except NameError as ex:\n",
    "    print(ex)"
   ]
  },
  {
   "cell_type": "code",
   "execution_count": 4,
   "id": "04c15265",
   "metadata": {},
   "outputs": [
    {
     "name": "stdout",
     "output_type": "stream",
     "text": [
      "division by zero\n",
      "Please enter the denominator greater than zero.\n"
     ]
    }
   ],
   "source": [
    "try:\n",
    "    result= 1/0\n",
    "except ZeroDivisionError as ze:\n",
    "    print(ze)\n",
    "    print(\"Please enter the denominator greater than zero.\")"
   ]
  },
  {
   "cell_type": "code",
   "execution_count": null,
   "id": "7ac0e15b",
   "metadata": {},
   "outputs": [
    {
     "name": "stdout",
     "output_type": "stream",
     "text": [
      "name 'b' is not defined\n"
     ]
    }
   ],
   "source": [
    "try:\n",
    "    result= 1/2\n",
    "    a=b\n",
    "    print(result)\n",
    "except ZeroDivisionError as ze:\n",
    "    print(ze)\n",
    "    print(\"Please enter the denominator greater than zero.\")\n",
    "except Exception as ex:             #parent class of all the exceptions\n",
    "    print(ex)"
   ]
  },
  {
   "cell_type": "code",
   "execution_count": null,
   "id": "3d1890d0",
   "metadata": {},
   "outputs": [
    {
     "name": "stdout",
     "output_type": "stream",
     "text": [
      "that's not valid number\n"
     ]
    }
   ],
   "source": [
    "# try except else\n",
    "try:\n",
    "    num = int(input(\"enter a number \"))\n",
    "    result =10/num\n",
    "except ValueError:\n",
    "    print(\"that's not valid number\")\n",
    "except ZeroDivisionError:\n",
    "    print(\"you can't divide by zero\")\n",
    "except Exception as ex :\n",
    "    print(ex)\n",
    "else:\n",
    "    print(f\"the result is {result}\")\n",
    "    "
   ]
  },
  {
   "cell_type": "code",
   "execution_count": 25,
   "id": "c566c38d",
   "metadata": {},
   "outputs": [
    {
     "name": "stdout",
     "output_type": "stream",
     "text": [
      "you can't divide by zero\n",
      "Execution complete.\n"
     ]
    }
   ],
   "source": [
    "# try except else finally\n",
    "try:\n",
    "    num = int(input(\"enter a number \"))\n",
    "    result =10/num\n",
    "except ValueError:\n",
    "    print(\"that's not valid number\")\n",
    "except ZeroDivisionError:\n",
    "    print(\"you can't divide by zero\")\n",
    "except Exception as ex :\n",
    "    print(ex)\n",
    "else:\n",
    "    print(f\"the result is {result}\")\n",
    "finally:\n",
    "    print(\"Execution complete.\")\n",
    "    "
   ]
  },
  {
   "cell_type": "code",
   "execution_count": 35,
   "id": "4aefd66f",
   "metadata": {},
   "outputs": [
    {
     "name": "stdout",
     "output_type": "stream",
     "text": [
      "the file does not exists\n"
     ]
    }
   ],
   "source": [
    "# file Handling and Exception Handling \n",
    "try:\n",
    "    file= open('exaple.txt','r')\n",
    "    content=file.read()\n",
    "    print(content)\n",
    "except FileNotFoundError:\n",
    "    print(\"the file does not exists\")\n",
    "finally:\n",
    "    if 'file' in locals() and not file.closed():\n",
    "        file.close()\n",
    "        print('file close')\n"
   ]
  },
  {
   "cell_type": "code",
   "execution_count": null,
   "id": "e919038c",
   "metadata": {},
   "outputs": [],
   "source": []
  }
 ],
 "metadata": {
  "kernelspec": {
   "display_name": "Python 3",
   "language": "python",
   "name": "python3"
  },
  "language_info": {
   "codemirror_mode": {
    "name": "ipython",
    "version": 3
   },
   "file_extension": ".py",
   "mimetype": "text/x-python",
   "name": "python",
   "nbconvert_exporter": "python",
   "pygments_lexer": "ipython3",
   "version": "3.10.18"
  }
 },
 "nbformat": 4,
 "nbformat_minor": 5
}
