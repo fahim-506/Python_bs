{
 "cells": [
  {
   "cell_type": "code",
   "execution_count": 7,
   "id": "99fd2fb7",
   "metadata": {},
   "outputs": [
    {
     "name": "stdout",
     "output_type": "stream",
     "text": [
      "Hello World !\n",
      "This is a new line.Append operation taking place\n",
      "\n"
     ]
    }
   ],
   "source": [
    "#Read a whole file\n",
    "with open ('source.txt','r') as file:\n",
    "    content=file.read()\n",
    "    print(content)"
   ]
  },
  {
   "cell_type": "code",
   "execution_count": 8,
   "id": "196fbadb",
   "metadata": {},
   "outputs": [
    {
     "name": "stdout",
     "output_type": "stream",
     "text": [
      "Hello World !\n",
      "This is a new line.Append operation taking place\n"
     ]
    }
   ],
   "source": [
    "# Read a file line by line\n",
    "with open ('source.txt','r') as file:\n",
    "    for line in file:\n",
    "        print(line.strip()) #strip() Removes the new line charater"
   ]
  },
  {
   "cell_type": "code",
   "execution_count": 9,
   "id": "8322458d",
   "metadata": {},
   "outputs": [],
   "source": [
    "# Writing a file (Overwriting)\n",
    "with open('source.txt','w') as file:\n",
    "    file.write(\"Hello World !\\n\")\n",
    "    file.write(\"This is a new line.\\n\")"
   ]
  },
  {
   "cell_type": "code",
   "execution_count": 10,
   "id": "a25a5e8f",
   "metadata": {},
   "outputs": [],
   "source": [
    "# Writing a file (Without Overwriting)\n",
    "with open ('source.txt','a') as file:\n",
    "    file.write(\"Append operation taking place\\n\")"
   ]
  },
  {
   "cell_type": "code",
   "execution_count": 11,
   "id": "123f17ac",
   "metadata": {},
   "outputs": [],
   "source": [
    "# Writing  a list of lines to a file \n",
    "lines = ['first line \\n','second line\\n''third line\\n']\n",
    "with open (\"source.txt\",'a') as file:\n",
    "    file.writelines(lines)"
   ]
  },
  {
   "cell_type": "code",
   "execution_count": 13,
   "id": "c8cd8b91",
   "metadata": {},
   "outputs": [],
   "source": [
    "# binary file \n",
    "# writing to a binary file \n",
    "data=b'\\x00\\x01\\x02\\x03\\04'\n",
    "with open ('example.bin','wb') as file:\n",
    "    file.write(data)"
   ]
  },
  {
   "cell_type": "code",
   "execution_count": 14,
   "id": "4ae0d52c",
   "metadata": {},
   "outputs": [
    {
     "name": "stdout",
     "output_type": "stream",
     "text": [
      "b'\\x00\\x01\\x02\\x03\\x04'\n"
     ]
    }
   ],
   "source": [
    "# Read a binary file \n",
    "with open ('example.bin','rb') as file:\n",
    "    content=file.read()\n",
    "    print(content)"
   ]
  },
  {
   "cell_type": "code",
   "execution_count": 15,
   "id": "c7f4b189",
   "metadata": {},
   "outputs": [],
   "source": [
    "# def count_file_stats(filename):\n",
    "#     with open(filename, 'r') as file:\n",
    "#         lines = file.readlines()\n",
    "#         num_lines = len(lines)\n",
    "#         num_words = sum(len(line.split()) for line in lines)\n",
    "#         num_chars = sum(len(line) for line in lines)\n",
    "#     return num_lines, num_words, num_chars\n"
   ]
  },
  {
   "cell_type": "code",
   "execution_count": null,
   "id": "ebef8b84",
   "metadata": {},
   "outputs": [],
   "source": []
  },
  {
   "cell_type": "code",
   "execution_count": null,
   "id": "0e169e38",
   "metadata": {},
   "outputs": [],
   "source": []
  }
 ],
 "metadata": {
  "kernelspec": {
   "display_name": "Python 3",
   "language": "python",
   "name": "python3"
  },
  "language_info": {
   "codemirror_mode": {
    "name": "ipython",
    "version": 3
   },
   "file_extension": ".py",
   "mimetype": "text/x-python",
   "name": "python",
   "nbconvert_exporter": "python",
   "pygments_lexer": "ipython3",
   "version": "3.10.18"
  }
 },
 "nbformat": 4,
 "nbformat_minor": 5
}
