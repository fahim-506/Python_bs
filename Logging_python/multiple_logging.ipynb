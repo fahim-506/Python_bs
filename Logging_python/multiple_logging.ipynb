{
 "cells": [
  {
   "cell_type": "markdown",
   "id": "115e9adf",
   "metadata": {},
   "source": [
    "## Logging with Multiple Loggers\n",
    "You can create multiple loggers for different parts of your application."
   ]
  },
  {
   "cell_type": "code",
   "execution_count": 1,
   "id": "38c8de23",
   "metadata": {},
   "outputs": [],
   "source": [
    "import logging\n",
    "#create a logger for module 1\n",
    "logger1=logging.getLogger(\"module1\")\n",
    "logger1.setLevel(logging.DEBUG)\n",
    "\n",
    "#create a logger for module 2\n",
    "logger2=logging.getLogger(\"module2\")\n",
    "logger2.setLevel(logging.WARNING)\n",
    "\n",
    "\n",
    "# Configure logging settings\n",
    "logging.basicConfig(\n",
    "    level=logging.DEBUG,\n",
    "    format='%(asctime)s - %(name)s - %(levelname)s - %(message)s',\n",
    "    datefmt='%Y-%m-%d %H:%M:%S'\n",
    ")"
   ]
  },
  {
   "cell_type": "code",
   "execution_count": 2,
   "id": "b95c6ec9",
   "metadata": {},
   "outputs": [
    {
     "name": "stderr",
     "output_type": "stream",
     "text": [
      "2025-10-28 14:49:18 - module1 - DEBUG - this is debug message for module1\n",
      "2025-10-28 14:49:18 - module2 - WARNING - this is warning message for module2\n",
      "2025-10-28 14:49:18 - module2 - ERROR - this is error message for module2\n"
     ]
    }
   ],
   "source": [
    "#log message with different loggers\n",
    "logger1.debug(\"this is debug message for module1\")\n",
    "logger2.warning(\"this is warning message for module2\")\n",
    "logger2.error(\"this is error message for module2\")"
   ]
  },
  {
   "cell_type": "code",
   "execution_count": null,
   "id": "f23ebb91",
   "metadata": {},
   "outputs": [],
   "source": []
  }
 ],
 "metadata": {
  "kernelspec": {
   "display_name": "env",
   "language": "python",
   "name": "python3"
  },
  "language_info": {
   "codemirror_mode": {
    "name": "ipython",
    "version": 3
   },
   "file_extension": ".py",
   "mimetype": "text/x-python",
   "name": "python",
   "nbconvert_exporter": "python",
   "pygments_lexer": "ipython3",
   "version": "3.13.1"
  }
 },
 "nbformat": 4,
 "nbformat_minor": 5
}
