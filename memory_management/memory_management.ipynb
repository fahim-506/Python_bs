{
 "cells": [
  {
   "cell_type": "markdown",
   "id": "31fe9392",
   "metadata": {},
   "source": [
    "# Python Memory Management\n",
    "Memory management in Python involves a combination of automatic garbage collection, reference counting, and various internal optimizations to efficiently manage memory allocation and deallocation. Understanding these mechanisms can help developers write more efficient and robust applications.\n",
    "\n",
    "- Key Concepts in Python Memory Management\n",
    "- Memory Allocation and Deallocation\n",
    "- Reference Counting\n",
    "- Garbage Collection\n",
    "- The gc Module\n",
    "- Memory Management Best Practices\n",
    "## Reference Counting\n",
    "Reference counting is the primary method Python uses to manage memory. Each object in Python maintains a count of references pointing to it. When the reference count drops to zero, the memory occupied by the object is deallocated."
   ]
  },
  {
   "cell_type": "code",
   "execution_count": 44,
   "id": "8a8774ec",
   "metadata": {},
   "outputs": [
    {
     "name": "stdout",
     "output_type": "stream",
     "text": [
      "2\n"
     ]
    }
   ],
   "source": [
    "import sys\n",
    "\n",
    "a=[]\n",
    "#2 (one reference from 'a' and one from getrefcount())\n",
    "print(sys.getrefcount(a))"
   ]
  },
  {
   "cell_type": "code",
   "execution_count": 45,
   "id": "75e54639",
   "metadata": {},
   "outputs": [
    {
     "name": "stdout",
     "output_type": "stream",
     "text": [
      "3\n"
     ]
    }
   ],
   "source": [
    "b = a\n",
    "print(sys.getrefcount(b))"
   ]
  },
  {
   "cell_type": "markdown",
   "id": "715ea0cd",
   "metadata": {},
   "source": [
    "### **Garbage Collection**\n",
    "\n",
    "Python includes a cyclic garbage collector to handle reference cycles. Reference cycles occur when objects reference each other, preventing their reference counts from reaching zero."
   ]
  },
  {
   "cell_type": "code",
   "execution_count": 46,
   "id": "815b1c04",
   "metadata": {},
   "outputs": [],
   "source": [
    "import gc\n",
    "# enable garbage collection\n",
    "gc.enable()"
   ]
  },
  {
   "cell_type": "code",
   "execution_count": 47,
   "id": "3dc43805",
   "metadata": {},
   "outputs": [],
   "source": [
    "gc.disable()"
   ]
  },
  {
   "cell_type": "code",
   "execution_count": 48,
   "id": "9de9271f",
   "metadata": {},
   "outputs": [
    {
     "data": {
      "text/plain": [
       "0"
      ]
     },
     "execution_count": 48,
     "metadata": {},
     "output_type": "execute_result"
    }
   ],
   "source": [
    "gc.collect()"
   ]
  },
  {
   "cell_type": "code",
   "execution_count": 49,
   "id": "90de4ae1",
   "metadata": {},
   "outputs": [
    {
     "name": "stdout",
     "output_type": "stream",
     "text": [
      "[{'collections': 69, 'collected': 2193, 'uncollectable': 0}, {'collections': 6, 'collected': 27, 'uncollectable': 0}, {'collections': 15, 'collected': 5538, 'uncollectable': 0}]\n"
     ]
    }
   ],
   "source": [
    "### Get garbage collection stats\n",
    "print(gc.get_stats())"
   ]
  },
  {
   "cell_type": "code",
   "execution_count": 50,
   "id": "79e2e63c",
   "metadata": {},
   "outputs": [
    {
     "name": "stdout",
     "output_type": "stream",
     "text": [
      "[]\n"
     ]
    }
   ],
   "source": [
    "### get unreachable objects\n",
    "print(gc.garbage)"
   ]
  },
  {
   "cell_type": "markdown",
   "id": "cf0d9d40",
   "metadata": {},
   "source": [
    "### Memory Management Best Practices\n",
    "- Use Local Variables: Local variables have a shorter lifespan and are freed sooner than global variables.\n",
    "- Avoid Circular References: Circular references can lead to memory leaks if not properly managed.\n",
    "- Use Generators: Generators produce items one at a time and only keep one item in memory at a time, making them memory efficient.\n",
    "- Explicitly Delete Objects: Use the del statement to delete variables and objects explicitly.\n",
    "- Profile Memory Usage: Use memory profiling tools like tracemalloc and memory_profiler to identify memory leaks and optimize memory usage."
   ]
  },
  {
   "cell_type": "code",
   "execution_count": null,
   "id": "3be9b40a",
   "metadata": {},
   "outputs": [
    {
     "name": "stdout",
     "output_type": "stream",
     "text": [
      "Object obj1 Created\n",
      "Object obj2 Created\n",
      "Object obj1 Deleted\n",
      "Object obj2 Deleted\n"
     ]
    },
    {
     "data": {
      "text/plain": [
       "9"
      ]
     },
     "execution_count": 39,
     "metadata": {},
     "output_type": "execute_result"
    }
   ],
   "source": [
    "## Handled Circular reference\n",
    "import gc\n",
    "class Myobject:\n",
    "    def __init__(self,name):\n",
    "        self.name=name\n",
    "        print(f\"Object {self.name} Created\")\n",
    "    def __del__(self,):\n",
    "        print(f\"Object {self.name} Deleted\")\n",
    "\n",
    "#create circular references\n",
    "obj1 = Myobject(\"obj1\")\n",
    "obj2 = Myobject(\"obj2\")\n",
    "obj1.ref=obj2\n",
    "obj2.ref=obj1\n",
    "\n",
    "del obj1\n",
    "del obj2\n",
    "\n",
    "#Manually trigger the garbage collection\n",
    "gc.collect()"
   ]
  },
  {
   "cell_type": "code",
   "execution_count": 51,
   "id": "f92206b9",
   "metadata": {},
   "outputs": [
    {
     "name": "stdout",
     "output_type": "stream",
     "text": [
      "0\n",
      "1\n",
      "2\n",
      "3\n",
      "4\n",
      "5\n",
      "6\n",
      "7\n",
      "8\n",
      "9\n",
      "10\n",
      "11\n"
     ]
    }
   ],
   "source": [
    "## Generators For Memory Efficiency\n",
    "#Generators allow you to produce items one at a time, using memory efficiently by only keeping one item in memory at a time.\n",
    "\n",
    "def generate_numbers(n):\n",
    "    for i in range(n):\n",
    "        yield i\n",
    "\n",
    "#using generator\n",
    "for num in generate_numbers(10000):\n",
    "    print(num)\n",
    "    if num > 10:\n",
    "        break"
   ]
  },
  {
   "cell_type": "code",
   "execution_count": 62,
   "id": "98ed6f9d",
   "metadata": {},
   "outputs": [],
   "source": [
    "## Profiling Memory USage with tracemalloc\n",
    "import tracemalloc\n",
    "\n",
    "def create_list():\n",
    "    return [i for i in range (1000)]\n",
    "\n",
    "def main():\n",
    "    tracemalloc.start()\n",
    "\n",
    "    create_list()\n",
    "\n",
    "    snapshot = tracemalloc.take_snapshot()\n",
    "    top_stats = snapshot.statistics('lineno')\n",
    "\n",
    "    print(['Top 10'])\n",
    "    for stat in top_stats[::]:\n",
    "        print(stat)\n"
   ]
  },
  {
   "cell_type": "code",
   "execution_count": 63,
   "id": "0ac09ef8",
   "metadata": {},
   "outputs": [
    {
     "name": "stdout",
     "output_type": "stream",
     "text": [
      "['Top 10']\n",
      "/Users/fahimp/Projects/memory_management/.venv/lib/python3.13/site-packages/IPython/core/compilerop.py:174: size=11.1 KiB, count=120, average=94 B\n",
      "/Library/Frameworks/Python.framework/Versions/3.13/lib/python3.13/tracemalloc.py:59: size=10.2 KiB, count=60, average=174 B\n",
      "/Library/Frameworks/Python.framework/Versions/3.13/lib/python3.13/tracemalloc.py:558: size=7736 B, count=161, average=48 B\n",
      "/Library/Frameworks/Python.framework/Versions/3.13/lib/python3.13/json/decoder.py:361: size=6683 B, count=99, average=68 B\n",
      "/Users/fahimp/Projects/memory_management/.venv/lib/python3.13/site-packages/traitlets/traitlets.py:731: size=6200 B, count=99, average=63 B\n",
      "/Users/fahimp/Projects/memory_management/.venv/lib/python3.13/site-packages/pygments/formatters/html.py:514: size=5691 B, count=69, average=82 B\n",
      "/Library/Frameworks/Python.framework/Versions/3.13/lib/python3.13/tracemalloc.py:193: size=5184 B, count=108, average=48 B\n",
      "/Users/fahimp/Projects/memory_management/.venv/lib/python3.13/site-packages/jupyter_client/jsonutil.py:111: size=4400 B, count=88, average=50 B\n",
      "/Users/fahimp/Projects/memory_management/.venv/lib/python3.13/site-packages/IPython/core/compilerop.py:86: size=4056 B, count=54, average=75 B\n",
      "/Library/Frameworks/Python.framework/Versions/3.13/lib/python3.13/codeop.py:118: size=3766 B, count=50, average=75 B\n",
      "/Users/fahimp/Projects/memory_management/.venv/lib/python3.13/site-packages/zmq/sugar/attrsettr.py:45: size=3758 B, count=80, average=47 B\n",
      "/Users/fahimp/Projects/memory_management/.venv/lib/python3.13/site-packages/jupyter_client/session.py:1057: size=3239 B, count=27, average=120 B\n",
      "/Users/fahimp/Projects/memory_management/.venv/lib/python3.13/site-packages/zmq/sugar/socket.py:802: size=3168 B, count=18, average=176 B\n",
      "/Users/fahimp/Projects/memory_management/.venv/lib/python3.13/site-packages/IPython/core/interactiveshell.py:3068: size=2816 B, count=15, average=188 B\n",
      "/Users/fahimp/Projects/memory_management/.venv/lib/python3.13/site-packages/traitlets/traitlets.py:1543: size=2733 B, count=43, average=64 B\n",
      "/Users/fahimp/Projects/memory_management/.venv/lib/python3.13/site-packages/traitlets/traitlets.py:1514: size=2400 B, count=20, average=120 B\n",
      "/Users/fahimp/Projects/memory_management/.venv/lib/python3.13/site-packages/pygments/formatters/html.py:511: size=2200 B, count=1, average=2200 B\n",
      "/Users/fahimp/Projects/memory_management/.venv/lib/python3.13/site-packages/ipykernel/iostream.py:347: size=1672 B, count=19, average=88 B\n",
      "/Library/Frameworks/Python.framework/Versions/3.13/lib/python3.13/contextlib.py:109: size=1664 B, count=16, average=104 B\n",
      "/Users/fahimp/Projects/memory_management/.venv/lib/python3.13/site-packages/pygments/formatters/html.py:493: size=1648 B, count=3, average=549 B\n",
      "/Users/fahimp/Projects/memory_management/.venv/lib/python3.13/site-packages/IPython/core/interactiveshell.py:3145: size=1608 B, count=12, average=134 B\n",
      "/Users/fahimp/Projects/memory_management/.venv/lib/python3.13/site-packages/IPython/core/history.py:1011: size=1312 B, count=11, average=119 B\n",
      "/Users/fahimp/Projects/memory_management/.venv/lib/python3.13/site-packages/jupyter_client/session.py:100: size=1239 B, count=8, average=155 B\n",
      "/Users/fahimp/Projects/memory_management/.venv/lib/python3.13/site-packages/IPython/core/interactiveshell.py:3070: size=1184 B, count=7, average=169 B\n",
      "/Users/fahimp/Projects/memory_management/.venv/lib/python3.13/site-packages/ipykernel/compiler.py:92: size=1068 B, count=9, average=119 B\n",
      "/Users/fahimp/Projects/memory_management/.venv/lib/python3.13/site-packages/ipykernel/ipkernel.py:458: size=960 B, count=5, average=192 B\n",
      "/Users/fahimp/Projects/memory_management/.venv/lib/python3.13/site-packages/IPython/core/interactiveshell.py:3366: size=928 B, count=4, average=232 B\n",
      "/Library/Frameworks/Python.framework/Versions/3.13/lib/python3.13/logging/__init__.py:1602: size=888 B, count=3, average=296 B\n",
      "/Library/Frameworks/Python.framework/Versions/3.13/lib/python3.13/asyncio/events.py:89: size=872 B, count=6, average=145 B\n",
      "/Users/fahimp/Projects/memory_management/.venv/lib/python3.13/site-packages/ipykernel/iostream.py:288: size=840 B, count=7, average=120 B\n",
      "/Users/fahimp/Projects/memory_management/.venv/lib/python3.13/site-packages/ipykernel/ipkernel.py:366: size=840 B, count=3, average=280 B\n",
      "/Users/fahimp/Projects/memory_management/.venv/lib/python3.13/site-packages/IPython/core/ultratb.py:212: size=836 B, count=4, average=209 B\n",
      "/Users/fahimp/Projects/memory_management/.venv/lib/python3.13/site-packages/jupyter_client/session.py:1085: size=832 B, count=4, average=208 B\n",
      "/Users/fahimp/Projects/memory_management/.venv/lib/python3.13/site-packages/jupyter_client/jsonutil.py:75: size=832 B, count=4, average=208 B\n",
      "/Users/fahimp/Projects/memory_management/.venv/lib/python3.13/site-packages/IPython/core/history.py:958: size=810 B, count=10, average=81 B\n",
      "/Users/fahimp/Projects/memory_management/.venv/lib/python3.13/site-packages/ipykernel/kernelbase.py:614: size=784 B, count=3, average=261 B\n",
      "/Users/fahimp/Projects/memory_management/.venv/lib/python3.13/site-packages/ipykernel/zmqshell.py:663: size=736 B, count=6, average=123 B\n",
      "/Users/fahimp/Projects/memory_management/.venv/lib/python3.13/site-packages/ipykernel/kernelbase.py:827: size=736 B, count=2, average=368 B\n",
      "/Users/fahimp/Projects/memory_management/.venv/lib/python3.13/site-packages/ipykernel/kernelbase.py:469: size=720 B, count=3, average=240 B\n",
      "/Users/fahimp/Projects/memory_management/.venv/lib/python3.13/site-packages/IPython/core/interactiveshell.py:3171: size=672 B, count=2, average=336 B\n",
      "/Users/fahimp/Projects/memory_management/.venv/lib/python3.13/site-packages/ipykernel/kernelbase.py:817: size=624 B, count=3, average=208 B\n",
      "/Users/fahimp/Projects/memory_management/.venv/lib/python3.13/site-packages/IPython/core/interactiveshell.py:3065: size=616 B, count=7, average=88 B\n",
      "/Library/Frameworks/Python.framework/Versions/3.13/lib/python3.13/asyncio/base_events.py:2033: size=592 B, count=2, average=296 B\n",
      "/Users/fahimp/Projects/memory_management/.venv/lib/python3.13/site-packages/zmq/sugar/socket.py:799: size=584 B, count=4, average=146 B\n",
      "/Library/Frameworks/Python.framework/Versions/3.13/lib/python3.13/threading.py:1032: size=568 B, count=1, average=568 B\n",
      "/Users/fahimp/Projects/memory_management/.venv/lib/python3.13/site-packages/IPython/core/interactiveshell.py:3116: size=560 B, count=2, average=280 B\n",
      "/Users/fahimp/Projects/memory_management/.venv/lib/python3.13/site-packages/jupyter_client/session.py:670: size=544 B, count=4, average=136 B\n",
      "/Users/fahimp/Projects/memory_management/.venv/lib/python3.13/site-packages/jupyter_client/session.py:278: size=544 B, count=4, average=136 B\n",
      "/Users/fahimp/Projects/memory_management/.venv/lib/python3.13/site-packages/IPython/core/interactiveshell.py:3300: size=544 B, count=4, average=136 B\n",
      "/Users/fahimp/Projects/memory_management/.venv/lib/python3.13/site-packages/ipykernel/kernelbase.py:824: size=520 B, count=4, average=130 B\n",
      "/Users/fahimp/Projects/memory_management/.venv/lib/python3.13/site-packages/IPython/core/interactiveshell.py:3271: size=480 B, count=4, average=120 B\n",
      "/Users/fahimp/Projects/memory_management/.venv/lib/python3.13/site-packages/IPython/core/interactiveshell.py:3292: size=480 B, count=3, average=160 B\n",
      "/Users/fahimp/Projects/memory_management/.venv/lib/python3.13/site-packages/IPython/core/history.py:982: size=450 B, count=10, average=45 B\n",
      "/Users/fahimp/Projects/memory_management/.venv/lib/python3.13/site-packages/ipykernel/iostream.py:277: size=440 B, count=3, average=147 B\n",
      "/Users/fahimp/Projects/memory_management/.venv/lib/python3.13/site-packages/IPython/core/async_helpers.py:128: size=432 B, count=2, average=216 B\n",
      "/Library/Frameworks/Python.framework/Versions/3.13/lib/python3.13/asyncio/base_events.py:468: size=428 B, count=4, average=107 B\n",
      "/Library/Frameworks/Python.framework/Versions/3.13/lib/python3.13/_weakrefset.py:88: size=416 B, count=3, average=139 B\n",
      "/Users/fahimp/Projects/memory_management/.venv/lib/python3.13/site-packages/ipykernel/ipkernel.py:489: size=416 B, count=2, average=208 B\n",
      "/Users/fahimp/Projects/memory_management/.venv/lib/python3.13/site-packages/pygments/formatters/html.py:835: size=389 B, count=9, average=43 B\n",
      "/Users/fahimp/Projects/memory_management/.venv/lib/python3.13/site-packages/jupyter_client/jsonutil.py:73: size=384 B, count=6, average=64 B\n",
      "/Library/Frameworks/Python.framework/Versions/3.13/lib/python3.13/tokenize.py:574: size=384 B, count=6, average=64 B\n",
      "/Users/fahimp/Projects/memory_management/.venv/lib/python3.13/site-packages/pygments/formatters/html.py:868: size=384 B, count=5, average=77 B\n",
      "/Users/fahimp/Projects/memory_management/.venv/lib/python3.13/site-packages/IPython/core/interactiveshell.py:3279: size=384 B, count=4, average=96 B\n",
      "/Users/fahimp/Projects/memory_management/.venv/lib/python3.13/site-packages/IPython/core/interactiveshell.py:3502: size=380 B, count=1, average=380 B\n",
      "/Users/fahimp/Projects/memory_management/.venv/lib/python3.13/site-packages/IPython/core/history.py:959: size=379 B, count=1, average=379 B\n",
      "/Users/fahimp/Projects/memory_management/.venv/lib/python3.13/site-packages/IPython/core/interactiveshell.py:3394: size=376 B, count=1, average=376 B\n",
      "/var/folders/1t/qqtm35950b74y6zwph6yt5vm0000gn/T/ipykernel_34953/2862075315.py:15: size=357 B, count=7, average=51 B\n",
      "/Users/fahimp/Projects/memory_management/.venv/lib/python3.13/site-packages/zmq/eventloop/zmqstream.py:550: size=352 B, count=3, average=117 B\n",
      "/Users/fahimp/Projects/memory_management/.venv/lib/python3.13/site-packages/IPython/core/interactiveshell.py:3474: size=350 B, count=5, average=70 B\n",
      "/Users/fahimp/Projects/memory_management/.venv/lib/python3.13/site-packages/jupyter_client/session.py:989: size=333 B, count=6, average=56 B\n",
      "/Users/fahimp/Projects/memory_management/.venv/lib/python3.13/site-packages/IPython/core/oinspect.py:94: size=328 B, count=1, average=328 B\n",
      "/Users/fahimp/Projects/memory_management/.venv/lib/python3.13/site-packages/IPython/core/interactiveshell.py:3043: size=320 B, count=2, average=160 B\n",
      "/Users/fahimp/Projects/memory_management/.venv/lib/python3.13/site-packages/IPython/core/interactiveshell.py:3497: size=304 B, count=6, average=51 B\n",
      "/Users/fahimp/Projects/memory_management/.venv/lib/python3.13/site-packages/IPython/core/interactiveshell.py:3639: size=296 B, count=1, average=296 B\n",
      "/Users/fahimp/Projects/memory_management/.venv/lib/python3.13/site-packages/ipykernel/iostream.py:155: size=288 B, count=1, average=288 B\n",
      "/Users/fahimp/Projects/memory_management/.venv/lib/python3.13/site-packages/ipykernel/iostream.py:143: size=288 B, count=1, average=288 B\n",
      "/Users/fahimp/Projects/memory_management/.venv/lib/python3.13/site-packages/IPython/core/interactiveshell.py:3296: size=288 B, count=1, average=288 B\n",
      "/Users/fahimp/Projects/memory_management/.venv/lib/python3.13/site-packages/jupyter_client/session.py:1053: size=256 B, count=4, average=64 B\n",
      "/Users/fahimp/Projects/memory_management/.venv/lib/python3.13/site-packages/IPython/core/interactiveshell.py:3066: size=248 B, count=4, average=62 B\n",
      "/Users/fahimp/Projects/memory_management/.venv/lib/python3.13/site-packages/ipykernel/utils.py:59: size=248 B, count=1, average=248 B\n",
      "/Users/fahimp/Projects/memory_management/.venv/lib/python3.13/site-packages/ipykernel/iostream.py:122: size=248 B, count=1, average=248 B\n",
      "/Users/fahimp/Projects/memory_management/.venv/lib/python3.13/site-packages/jupyter_client/session.py:200: size=240 B, count=5, average=48 B\n",
      "/Users/fahimp/Projects/memory_management/.venv/lib/python3.13/site-packages/jupyter_client/session.py:672: size=240 B, count=2, average=120 B\n",
      "/Library/Frameworks/Python.framework/Versions/3.13/lib/python3.13/inspect.py:266: size=240 B, count=2, average=120 B\n",
      "/Library/Frameworks/Python.framework/Versions/3.13/lib/python3.13/re/_compiler.py:764: size=240 B, count=1, average=240 B\n",
      "/Users/fahimp/Projects/memory_management/.venv/lib/python3.13/site-packages/ipykernel/kernelbase.py:683: size=232 B, count=2, average=116 B\n",
      "/Users/fahimp/Projects/memory_management/.venv/lib/python3.13/site-packages/ipykernel/iostream.py:522: size=232 B, count=2, average=116 B\n",
      "/Library/Frameworks/Python.framework/Versions/3.13/lib/python3.13/selectors.py:548: size=224 B, count=2, average=112 B\n",
      "/Library/Frameworks/Python.framework/Versions/3.13/lib/python3.13/contextlib.py:305: size=224 B, count=2, average=112 B\n",
      "/Users/fahimp/Projects/memory_management/.venv/lib/python3.13/site-packages/IPython/core/compilerop.py:171: size=216 B, count=3, average=72 B\n",
      "/Users/fahimp/Projects/memory_management/.venv/lib/python3.13/site-packages/pygments/formatters/html.py:459: size=216 B, count=1, average=216 B\n",
      "/Users/fahimp/Projects/memory_management/.venv/lib/python3.13/site-packages/IPython/core/completer.py:2392: size=194 B, count=4, average=48 B\n",
      "/Users/fahimp/Projects/memory_management/.venv/lib/python3.13/site-packages/jupyter_client/session.py:688: size=194 B, count=2, average=97 B\n",
      "/Users/fahimp/Projects/memory_management/.venv/lib/python3.13/site-packages/dateutil/parser/isoparser.py:146: size=192 B, count=4, average=48 B\n",
      "/Users/fahimp/Projects/memory_management/.venv/lib/python3.13/site-packages/zmq/sugar/socket.py:803: size=192 B, count=3, average=64 B\n",
      "/Users/fahimp/Projects/memory_management/.venv/lib/python3.13/site-packages/ipykernel/kernelbase.py:768: size=192 B, count=3, average=64 B\n",
      "/Users/fahimp/Projects/memory_management/.venv/lib/python3.13/site-packages/ipykernel/kernelbase.py:78: size=192 B, count=3, average=64 B\n",
      "/Users/fahimp/Projects/memory_management/.venv/lib/python3.13/site-packages/ipykernel/ipkernel.py:388: size=192 B, count=3, average=64 B\n",
      "/Users/fahimp/Projects/memory_management/.venv/lib/python3.13/site-packages/ipykernel/ipkernel.py:387: size=192 B, count=3, average=64 B\n",
      "/Users/fahimp/Projects/memory_management/.venv/lib/python3.13/site-packages/jupyter_client/session.py:750: size=192 B, count=2, average=96 B\n",
      "/Users/fahimp/Projects/memory_management/.venv/lib/python3.13/site-packages/ipykernel/ipkernel.py:480: size=182 B, count=2, average=91 B\n",
      "/Users/fahimp/Projects/memory_management/.venv/lib/python3.13/site-packages/ipykernel/kernelbase.py:1279: size=173 B, count=2, average=86 B\n",
      "/Users/fahimp/Projects/memory_management/.venv/lib/python3.13/site-packages/jupyter_client/session.py:604: size=170 B, count=2, average=85 B\n",
      "/Users/fahimp/Projects/memory_management/.venv/lib/python3.13/site-packages/IPython/core/compilerop.py:172: size=168 B, count=6, average=28 B\n",
      "/Users/fahimp/Projects/memory_management/.venv/lib/python3.13/site-packages/IPython/core/payload.py:54: size=168 B, count=3, average=56 B\n",
      "/Users/fahimp/Projects/memory_management/.venv/lib/python3.13/site-packages/IPython/core/completer.py:1182: size=168 B, count=3, average=56 B\n",
      "/var/folders/1t/qqtm35950b74y6zwph6yt5vm0000gn/T/ipykernel_34953/2329249404.py:7: size=160 B, count=1, average=160 B\n",
      "/var/folders/1t/qqtm35950b74y6zwph6yt5vm0000gn/T/ipykernel_34953/2329249404.py:4: size=160 B, count=1, average=160 B\n",
      "/Users/fahimp/Projects/memory_management/.venv/lib/python3.13/site-packages/zmq/eventloop/zmqstream.py:563: size=160 B, count=1, average=160 B\n",
      "/Users/fahimp/Projects/memory_management/.venv/lib/python3.13/site-packages/pygments/formatters/html.py:866: size=160 B, count=1, average=160 B\n",
      "/Users/fahimp/Projects/memory_management/.venv/lib/python3.13/site-packages/IPython/core/interactiveshell.py:3699: size=160 B, count=1, average=160 B\n",
      "/Users/fahimp/Projects/memory_management/.venv/lib/python3.13/site-packages/IPython/core/interactiveshell.py:3615: size=160 B, count=1, average=160 B\n",
      "/Library/Frameworks/Python.framework/Versions/3.13/lib/python3.13/threading.py:970: size=160 B, count=1, average=160 B\n",
      "/Users/fahimp/Projects/memory_management/.venv/lib/python3.13/site-packages/jupyter_client/session.py:996: size=152 B, count=4, average=38 B\n",
      "/Library/Frameworks/Python.framework/Versions/3.13/lib/python3.13/enum.py:1601: size=144 B, count=3, average=48 B\n",
      "/Users/fahimp/Projects/memory_management/.venv/lib/python3.13/site-packages/ipykernel/iostream.py:717: size=144 B, count=2, average=72 B\n",
      "/Library/Frameworks/Python.framework/Versions/3.13/lib/python3.13/asyncio/base_events.py:459: size=136 B, count=1, average=136 B\n",
      "/Users/fahimp/Projects/memory_management/.venv/lib/python3.13/site-packages/IPython/core/ultratb.py:213: size=128 B, count=4, average=32 B\n",
      "/Users/fahimp/Projects/memory_management/.venv/lib/python3.13/site-packages/IPython/core/interactiveshell.py:3631: size=128 B, count=3, average=43 B\n",
      "/Users/fahimp/Projects/memory_management/.venv/lib/python3.13/site-packages/ipykernel/kernelbase.py:808: size=128 B, count=2, average=64 B\n",
      "/Users/fahimp/Projects/memory_management/.venv/lib/python3.13/site-packages/ipykernel/ipkernel.py:503: size=128 B, count=2, average=64 B\n",
      "/Users/fahimp/Projects/memory_management/.venv/lib/python3.13/site-packages/ipykernel/ipkernel.py:485: size=128 B, count=2, average=64 B\n",
      "/Users/fahimp/Projects/memory_management/.venv/lib/python3.13/site-packages/IPython/core/interactiveshell.py:3637: size=128 B, count=2, average=64 B\n",
      "/Users/fahimp/Projects/memory_management/.venv/lib/python3.13/site-packages/IPython/core/interactiveshell.py:3114: size=128 B, count=2, average=64 B\n",
      "/Users/fahimp/Projects/memory_management/.venv/lib/python3.13/site-packages/IPython/core/completer.py:3518: size=128 B, count=1, average=128 B\n",
      "/Users/fahimp/Projects/memory_management/.venv/lib/python3.13/site-packages/traitlets/traitlets.py:1540: size=120 B, count=2, average=60 B\n",
      "/Library/Frameworks/Python.framework/Versions/3.13/lib/python3.13/asyncio/base_events.py:811: size=120 B, count=1, average=120 B\n",
      "/Users/fahimp/Projects/memory_management/.venv/lib/python3.13/site-packages/traitlets/traitlets.py:1534: size=112 B, count=2, average=56 B\n",
      "/Users/fahimp/Projects/memory_management/.venv/lib/python3.13/site-packages/jupyter_client/session.py:1088: size=112 B, count=2, average=56 B\n",
      "/Users/fahimp/Projects/memory_management/.venv/lib/python3.13/site-packages/IPython/core/ultratb.py:194: size=112 B, count=2, average=56 B\n",
      "/Users/fahimp/Projects/memory_management/.venv/lib/python3.13/site-packages/IPython/core/interactiveshell.py:3620: size=112 B, count=2, average=56 B\n",
      "/Library/Frameworks/Python.framework/Versions/3.13/lib/python3.13/selectors.py:546: size=112 B, count=2, average=56 B\n",
      "/Users/fahimp/Projects/memory_management/.venv/lib/python3.13/site-packages/ipykernel/ipkernel.py:479: size=104 B, count=2, average=52 B\n",
      "/Library/Frameworks/Python.framework/Versions/3.13/lib/python3.13/asyncio/base_events.py:848: size=104 B, count=1, average=104 B\n",
      "/Library/Frameworks/Python.framework/Versions/3.13/lib/python3.13/warnings.py:196: size=96 B, count=1, average=96 B\n",
      "/Library/Frameworks/Python.framework/Versions/3.13/lib/python3.13/threading.py:1281: size=80 B, count=1, average=80 B\n",
      "/Library/Frameworks/Python.framework/Versions/3.13/lib/python3.13/fnmatch.py:46: size=80 B, count=1, average=80 B\n",
      "/Users/fahimp/Projects/memory_management/.venv/lib/python3.13/site-packages/pygments/formatters/html.py:857: size=67 B, count=1, average=67 B\n",
      "/Users/fahimp/Projects/memory_management/.venv/lib/python3.13/site-packages/IPython/core/interactiveshell.py:3607: size=64 B, count=2, average=32 B\n",
      "/Users/fahimp/Projects/memory_management/.venv/lib/python3.13/site-packages/pygments/formatters/html.py:494: size=64 B, count=1, average=64 B\n",
      "/Users/fahimp/Projects/memory_management/.venv/lib/python3.13/site-packages/pygments/formatters/html.py:434: size=64 B, count=1, average=64 B\n",
      "/Users/fahimp/Projects/memory_management/.venv/lib/python3.13/site-packages/pygments/formatters/html.py:420: size=64 B, count=1, average=64 B\n",
      "/Users/fahimp/Projects/memory_management/.venv/lib/python3.13/site-packages/ipykernel/kernelbase.py:613: size=64 B, count=1, average=64 B\n",
      "/Users/fahimp/Projects/memory_management/.venv/lib/python3.13/site-packages/ipykernel/ipkernel.py:385: size=64 B, count=1, average=64 B\n",
      "/Users/fahimp/Projects/memory_management/.venv/lib/python3.13/site-packages/ipykernel/ipkernel.py:295: size=64 B, count=1, average=64 B\n",
      "/Users/fahimp/Projects/memory_management/.venv/lib/python3.13/site-packages/ipykernel/ipkernel.py:292: size=64 B, count=1, average=64 B\n",
      "/Users/fahimp/Projects/memory_management/.venv/lib/python3.13/site-packages/IPython/utils/PyColorize.py:448: size=64 B, count=1, average=64 B\n",
      "/Users/fahimp/Projects/memory_management/.venv/lib/python3.13/site-packages/IPython/core/interactiveshell.py:3688: size=64 B, count=1, average=64 B\n",
      "/Users/fahimp/Projects/memory_management/.venv/lib/python3.13/site-packages/IPython/core/interactiveshell.py:3363: size=64 B, count=1, average=64 B\n",
      "/Users/fahimp/Projects/memory_management/.venv/lib/python3.13/site-packages/IPython/core/interactiveshell.py:3360: size=64 B, count=1, average=64 B\n",
      "/Library/Frameworks/Python.framework/Versions/3.13/lib/python3.13/threading.py:656: size=64 B, count=1, average=64 B\n",
      "/Users/fahimp/Projects/memory_management/.venv/lib/python3.13/site-packages/jupyter_client/session.py:738: size=56 B, count=1, average=56 B\n",
      "/Users/fahimp/Projects/memory_management/.venv/lib/python3.13/site-packages/IPython/utils/PyColorize.py:439: size=56 B, count=1, average=56 B\n",
      "/Users/fahimp/Projects/memory_management/.venv/lib/python3.13/site-packages/IPython/core/interactiveshell.py:3605: size=56 B, count=1, average=56 B\n",
      "/Users/fahimp/Projects/memory_management/.venv/lib/python3.13/site-packages/IPython/core/completer.py:1180: size=56 B, count=1, average=56 B\n",
      "/Library/Frameworks/Python.framework/Versions/3.13/lib/python3.13/threading.py:352: size=56 B, count=1, average=56 B\n",
      "/Library/Frameworks/Python.framework/Versions/3.13/lib/python3.13/fnmatch.py:52: size=56 B, count=1, average=56 B\n",
      "/Library/Frameworks/Python.framework/Versions/3.13/lib/python3.13/fnmatch.py:192: size=54 B, count=1, average=54 B\n",
      "/Users/fahimp/Projects/memory_management/.venv/lib/python3.13/site-packages/ipykernel/iostream.py:679: size=50 B, count=1, average=50 B\n",
      "/Library/Frameworks/Python.framework/Versions/3.13/lib/python3.13/logging/__init__.py:383: size=50 B, count=1, average=50 B\n",
      "/var/folders/1t/qqtm35950b74y6zwph6yt5vm0000gn/T/ipykernel_34953/451043146.py:1: size=48 B, count=1, average=48 B\n",
      "/var/folders/1t/qqtm35950b74y6zwph6yt5vm0000gn/T/ipykernel_34953/2862075315.py:17: size=48 B, count=1, average=48 B\n",
      "/Users/fahimp/Projects/memory_management/.venv/lib/python3.13/site-packages/IPython/core/interactiveshell.py:3627: size=48 B, count=1, average=48 B\n",
      "/Users/fahimp/Projects/memory_management/.venv/lib/python3.13/site-packages/IPython/core/interactiveshell.py:3045: size=48 B, count=1, average=48 B\n",
      "/Users/fahimp/Projects/memory_management/.venv/lib/python3.13/site-packages/IPython/core/completer.py:2390: size=48 B, count=1, average=48 B\n",
      "/Users/fahimp/Projects/memory_management/.venv/lib/python3.13/site-packages/zmq/sugar/attrsettr.py:29: size=47 B, count=1, average=47 B\n",
      "/Users/fahimp/Projects/memory_management/.venv/lib/python3.13/site-packages/IPython/core/prefilter.py:317: size=47 B, count=1, average=47 B\n",
      "/Users/fahimp/Projects/memory_management/.venv/lib/python3.13/site-packages/IPython/core/oinspect.py:1210: size=47 B, count=1, average=47 B\n",
      "/Users/fahimp/Projects/memory_management/.venv/lib/python3.13/site-packages/IPython/core/completer.py:2189: size=46 B, count=1, average=46 B\n",
      "/Users/fahimp/Projects/memory_management/.venv/lib/python3.13/site-packages/pygments/lexer.py:716: size=45 B, count=1, average=45 B\n",
      "/Library/Frameworks/Python.framework/Versions/3.13/lib/python3.13/asyncio/base_events.py:2017: size=40 B, count=1, average=40 B\n",
      "/Users/fahimp/Projects/memory_management/.venv/lib/python3.13/site-packages/jupyter_client/session.py:603: size=32 B, count=1, average=32 B\n",
      "/Users/fahimp/Projects/memory_management/.venv/lib/python3.13/site-packages/ipykernel/iostream.py:632: size=32 B, count=1, average=32 B\n",
      "/Users/fahimp/Projects/memory_management/.venv/lib/python3.13/site-packages/IPython/core/interactiveshell.py:3625: size=32 B, count=1, average=32 B\n",
      "/Users/fahimp/Projects/memory_management/.venv/lib/python3.13/site-packages/IPython/core/history.py:969: size=32 B, count=1, average=32 B\n",
      "/Users/fahimp/Projects/memory_management/.venv/lib/python3.13/site-packages/IPython/core/completer.py:3266: size=32 B, count=1, average=32 B\n",
      "/Users/fahimp/Projects/memory_management/.venv/lib/python3.13/site-packages/IPython/core/completer.py:872: size=32 B, count=1, average=32 B\n",
      "/Users/fahimp/Projects/memory_management/.venv/lib/python3.13/site-packages/IPython/core/compilerop.py:192: size=32 B, count=1, average=32 B\n",
      "/Library/Frameworks/Python.framework/Versions/3.13/lib/python3.13/asyncio/base_events.py:814: size=32 B, count=1, average=32 B\n"
     ]
    }
   ],
   "source": [
    "main()"
   ]
  },
  {
   "cell_type": "code",
   "execution_count": null,
   "id": "df46d05e",
   "metadata": {},
   "outputs": [],
   "source": []
  }
 ],
 "metadata": {
  "kernelspec": {
   "display_name": ".venv",
   "language": "python",
   "name": "python3"
  },
  "language_info": {
   "codemirror_mode": {
    "name": "ipython",
    "version": 3
   },
   "file_extension": ".py",
   "mimetype": "text/x-python",
   "name": "python",
   "nbconvert_exporter": "python",
   "pygments_lexer": "ipython3",
   "version": "3.13.1"
  }
 },
 "nbformat": 4,
 "nbformat_minor": 5
}
